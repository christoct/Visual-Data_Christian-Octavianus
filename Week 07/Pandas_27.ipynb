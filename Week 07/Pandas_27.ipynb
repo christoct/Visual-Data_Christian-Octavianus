{
 "cells": [
  {
   "cell_type": "markdown",
   "id": "a89680f5-7208-4145-8cdd-108c62b83744",
   "metadata": {},
   "source": [
    "# Import Modules"
   ]
  },
  {
   "cell_type": "code",
   "execution_count": 1,
   "id": "685a9469-c8c2-4bb2-a81b-82f12804b3cd",
   "metadata": {},
   "outputs": [
    {
     "name": "stdout",
     "output_type": "stream",
     "text": [
      "2.2.2\n"
     ]
    }
   ],
   "source": [
    "import pandas as pd\n",
    "print(pd.__version__)"
   ]
  },
  {
   "cell_type": "markdown",
   "id": "c86fb469-b7ef-42db-b6bf-faf1b3aaa933",
   "metadata": {},
   "source": [
    "# Persiapan Data Frame"
   ]
  },
  {
   "cell_type": "code",
   "execution_count": 3,
   "id": "31b5ed0a-5514-469b-96e7-f3d7546962fb",
   "metadata": {},
   "outputs": [
    {
     "data": {
      "text/html": [
       "<div>\n",
       "<style scoped>\n",
       "    .dataframe tbody tr th:only-of-type {\n",
       "        vertical-align: middle;\n",
       "    }\n",
       "\n",
       "    .dataframe tbody tr th {\n",
       "        vertical-align: top;\n",
       "    }\n",
       "\n",
       "    .dataframe thead th {\n",
       "        text-align: right;\n",
       "    }\n",
       "</style>\n",
       "<table border=\"1\" class=\"dataframe\">\n",
       "  <thead>\n",
       "    <tr style=\"text-align: right;\">\n",
       "      <th></th>\n",
       "      <th>dokter</th>\n",
       "      <th>pasien</th>\n",
       "    </tr>\n",
       "  </thead>\n",
       "  <tbody>\n",
       "    <tr>\n",
       "      <th>0</th>\n",
       "      <td>Budi</td>\n",
       "      <td>Abdul</td>\n",
       "    </tr>\n",
       "    <tr>\n",
       "      <th>1</th>\n",
       "      <td>Wati</td>\n",
       "      <td>Rahmat</td>\n",
       "    </tr>\n",
       "    <tr>\n",
       "      <th>2</th>\n",
       "      <td>Iwan</td>\n",
       "      <td>Asep</td>\n",
       "    </tr>\n",
       "    <tr>\n",
       "      <th>3</th>\n",
       "      <td>Budi</td>\n",
       "      <td>Joko</td>\n",
       "    </tr>\n",
       "    <tr>\n",
       "      <th>4</th>\n",
       "      <td>Budi</td>\n",
       "      <td>Wiwin</td>\n",
       "    </tr>\n",
       "    <tr>\n",
       "      <th>5</th>\n",
       "      <td>Wati</td>\n",
       "      <td>Lisa</td>\n",
       "    </tr>\n",
       "  </tbody>\n",
       "</table>\n",
       "</div>"
      ],
      "text/plain": [
       "  dokter  pasien\n",
       "0   Budi   Abdul\n",
       "1   Wati  Rahmat\n",
       "2   Iwan    Asep\n",
       "3   Budi    Joko\n",
       "4   Budi   Wiwin\n",
       "5   Wati    Lisa"
      ]
     },
     "execution_count": 3,
     "metadata": {},
     "output_type": "execute_result"
    }
   ],
   "source": [
    "d = {'dokter':['Budi','Wati','Iwan','Budi','Budi','Wati'], \n",
    "     'pasien':['Abdul','Rahmat','Asep','Joko','Wiwin','Lisa']}\n",
    "df = pd.DataFrame(d)\n",
    "df"
   ]
  },
  {
   "cell_type": "markdown",
   "id": "16d2e4d7-f607-4ff7-ac67-1be2025c4a77",
   "metadata": {},
   "source": [
    "# Mengenal fungsi agregasi first() dan last()"
   ]
  },
  {
   "cell_type": "code",
   "execution_count": 5,
   "id": "e97af2f4-001c-41bc-8881-a4bf9a922516",
   "metadata": {},
   "outputs": [
    {
     "data": {
      "text/html": [
       "<div>\n",
       "<style scoped>\n",
       "    .dataframe tbody tr th:only-of-type {\n",
       "        vertical-align: middle;\n",
       "    }\n",
       "\n",
       "    .dataframe tbody tr th {\n",
       "        vertical-align: top;\n",
       "    }\n",
       "\n",
       "    .dataframe thead th {\n",
       "        text-align: right;\n",
       "    }\n",
       "</style>\n",
       "<table border=\"1\" class=\"dataframe\">\n",
       "  <thead>\n",
       "    <tr style=\"text-align: right;\">\n",
       "      <th></th>\n",
       "      <th>pasien</th>\n",
       "    </tr>\n",
       "    <tr>\n",
       "      <th>dokter</th>\n",
       "      <th></th>\n",
       "    </tr>\n",
       "  </thead>\n",
       "  <tbody>\n",
       "    <tr>\n",
       "      <th>Budi</th>\n",
       "      <td>3</td>\n",
       "    </tr>\n",
       "    <tr>\n",
       "      <th>Iwan</th>\n",
       "      <td>1</td>\n",
       "    </tr>\n",
       "    <tr>\n",
       "      <th>Wati</th>\n",
       "      <td>2</td>\n",
       "    </tr>\n",
       "  </tbody>\n",
       "</table>\n",
       "</div>"
      ],
      "text/plain": [
       "        pasien\n",
       "dokter        \n",
       "Budi         3\n",
       "Iwan         1\n",
       "Wati         2"
      ]
     },
     "execution_count": 5,
     "metadata": {},
     "output_type": "execute_result"
    }
   ],
   "source": [
    "df.groupby('dokter')['pasien'].count().to_frame()"
   ]
  },
  {
   "cell_type": "code",
   "execution_count": 7,
   "id": "886a93b0-b974-4534-bb23-f48d45d14eb6",
   "metadata": {},
   "outputs": [
    {
     "data": {
      "text/html": [
       "<div>\n",
       "<style scoped>\n",
       "    .dataframe tbody tr th:only-of-type {\n",
       "        vertical-align: middle;\n",
       "    }\n",
       "\n",
       "    .dataframe tbody tr th {\n",
       "        vertical-align: top;\n",
       "    }\n",
       "\n",
       "    .dataframe thead th {\n",
       "        text-align: right;\n",
       "    }\n",
       "</style>\n",
       "<table border=\"1\" class=\"dataframe\">\n",
       "  <thead>\n",
       "    <tr style=\"text-align: right;\">\n",
       "      <th></th>\n",
       "      <th>pasien</th>\n",
       "    </tr>\n",
       "    <tr>\n",
       "      <th>dokter</th>\n",
       "      <th></th>\n",
       "    </tr>\n",
       "  </thead>\n",
       "  <tbody>\n",
       "    <tr>\n",
       "      <th>Budi</th>\n",
       "      <td>Abdul</td>\n",
       "    </tr>\n",
       "    <tr>\n",
       "      <th>Iwan</th>\n",
       "      <td>Asep</td>\n",
       "    </tr>\n",
       "    <tr>\n",
       "      <th>Wati</th>\n",
       "      <td>Rahmat</td>\n",
       "    </tr>\n",
       "  </tbody>\n",
       "</table>\n",
       "</div>"
      ],
      "text/plain": [
       "        pasien\n",
       "dokter        \n",
       "Budi     Abdul\n",
       "Iwan      Asep\n",
       "Wati    Rahmat"
      ]
     },
     "execution_count": 7,
     "metadata": {},
     "output_type": "execute_result"
    }
   ],
   "source": [
    "df.groupby('dokter')['pasien'].first().to_frame()"
   ]
  },
  {
   "cell_type": "code",
   "execution_count": 9,
   "id": "e551fc1a-fd74-4ea8-bb82-b67190cb0615",
   "metadata": {},
   "outputs": [
    {
     "data": {
      "text/html": [
       "<div>\n",
       "<style scoped>\n",
       "    .dataframe tbody tr th:only-of-type {\n",
       "        vertical-align: middle;\n",
       "    }\n",
       "\n",
       "    .dataframe tbody tr th {\n",
       "        vertical-align: top;\n",
       "    }\n",
       "\n",
       "    .dataframe thead th {\n",
       "        text-align: right;\n",
       "    }\n",
       "</style>\n",
       "<table border=\"1\" class=\"dataframe\">\n",
       "  <thead>\n",
       "    <tr style=\"text-align: right;\">\n",
       "      <th></th>\n",
       "      <th>pasien</th>\n",
       "    </tr>\n",
       "    <tr>\n",
       "      <th>dokter</th>\n",
       "      <th></th>\n",
       "    </tr>\n",
       "  </thead>\n",
       "  <tbody>\n",
       "    <tr>\n",
       "      <th>Budi</th>\n",
       "      <td>Wiwin</td>\n",
       "    </tr>\n",
       "    <tr>\n",
       "      <th>Iwan</th>\n",
       "      <td>Asep</td>\n",
       "    </tr>\n",
       "    <tr>\n",
       "      <th>Wati</th>\n",
       "      <td>Lisa</td>\n",
       "    </tr>\n",
       "  </tbody>\n",
       "</table>\n",
       "</div>"
      ],
      "text/plain": [
       "       pasien\n",
       "dokter       \n",
       "Budi    Wiwin\n",
       "Iwan     Asep\n",
       "Wati     Lisa"
      ]
     },
     "execution_count": 9,
     "metadata": {},
     "output_type": "execute_result"
    }
   ],
   "source": [
    "df.groupby('dokter')['pasien'].last().to_frame()"
   ]
  },
  {
   "cell_type": "code",
   "execution_count": null,
   "id": "253722c6-f5fa-4db3-ba97-76cbefcad64d",
   "metadata": {},
   "outputs": [],
   "source": []
  }
 ],
 "metadata": {
  "kernelspec": {
   "display_name": "Python 3 (ipykernel)",
   "language": "python",
   "name": "python3"
  },
  "language_info": {
   "codemirror_mode": {
    "name": "ipython",
    "version": 3
   },
   "file_extension": ".py",
   "mimetype": "text/x-python",
   "name": "python",
   "nbconvert_exporter": "python",
   "pygments_lexer": "ipython3",
   "version": "3.12.3"
  }
 },
 "nbformat": 4,
 "nbformat_minor": 5
}
